{
 "cells": [
  {
   "cell_type": "code",
   "execution_count": 2,
   "id": "9d513df9",
   "metadata": {},
   "outputs": [],
   "source": [
    "import zipfile"
   ]
  },
  {
   "cell_type": "code",
   "execution_count": 3,
   "id": "e7d125fb",
   "metadata": {},
   "outputs": [],
   "source": [
    "twitter_project_zip = zipfile.ZipFile('wrangle_project_archive.zip', 'w')\n",
    "twitter_project_zip.write('wrangle_act_adeleye_victor.html')\n",
    "twitter_project_zip.write('wrangle_report_adeleye_victor.html')\n",
    "twitter_project_zip.write('act_report_adeleye_victor.html')\n",
    "twitter_project_zip.write('wrangle_act_adeleye_victor.ipynb')\n",
    "twitter_project_zip.write('wrangle_report_adeleye_victor.ipynb')\n",
    "twitter_project_zip.write('act_report_adeleye_victor.ipynb')\n",
    "twitter_project_zip.write('image_predictions.tsv')\n",
    "twitter_project_zip.write('tweet-json.txt')\n",
    "twitter_project_zip.write('twitter_archive_enhanced.csv')\n",
    "twitter_project_zip.write('twitter_archive_master.csv')\n",
    "twitter_project_zip.close()"
   ]
  }
 ],
 "metadata": {
  "kernelspec": {
   "display_name": "Python 3",
   "language": "python",
   "name": "python3"
  },
  "language_info": {
   "codemirror_mode": {
    "name": "ipython",
    "version": 3
   },
   "file_extension": ".py",
   "mimetype": "text/x-python",
   "name": "python",
   "nbconvert_exporter": "python",
   "pygments_lexer": "ipython3",
   "version": "3.8.8"
  }
 },
 "nbformat": 4,
 "nbformat_minor": 5
}
